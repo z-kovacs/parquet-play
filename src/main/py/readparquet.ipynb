{
 "cells": [
  {
   "cell_type": "code",
   "execution_count": 1,
   "metadata": {},
   "outputs": [
    {
     "name": "stdout",
     "output_type": "stream",
     "text": [
      "/c/Users/zkovacs/AppData/Local/Temp/1553693391408-0/.test.pq.crc\n",
      "/c/Users/zkovacs/AppData/Local/Temp/1553693391408-0/test.pq\n"
     ]
    }
   ],
   "source": [
    "import os\n",
    "\n",
    "path = '/c/Users/zkovacs/AppData/Local/Temp/1553693391408-0/'\n",
    "\n",
    "files = []\n",
    "# r=root, d=directories, f = files\n",
    "for r, d, f in os.walk(path):\n",
    "    for file in f:        \n",
    "        files.append(os.path.join(r, file))\n",
    "\n",
    "            \n",
    "for f in files:\n",
    "    print(f)"
   ]
  },
  {
   "cell_type": "code",
   "execution_count": 2,
   "metadata": {},
   "outputs": [],
   "source": [
    "#requires pyarrow\n",
    "import pyarrow.parquet as pq"
   ]
  },
  {
   "cell_type": "code",
   "execution_count": 3,
   "metadata": {},
   "outputs": [
    {
     "name": "stderr",
     "output_type": "stream",
     "text": [
      "/home/zkovacs/miniconda3/envs/nb36/lib/python3.6/site-packages/pyarrow/pandas_compat.py:752: FutureWarning: .labels was deprecated in version 0.24.0. Use .codes instead.\n",
      "  labels, = index.labels\n"
     ]
    }
   ],
   "source": [
    "table2 = pq.read_table('/c/Users/zkovacs/AppData/Local/Temp/1553883690551-0/test.pq')\n",
    "\n",
    "frame=table2.to_pandas()"
   ]
  },
  {
   "cell_type": "code",
   "execution_count": 4,
   "metadata": {},
   "outputs": [
    {
     "data": {
      "text/plain": [
       "myDate       datetime64[ns]\n",
       "myDecimal            object\n",
       "dtype: object"
      ]
     },
     "execution_count": 4,
     "metadata": {},
     "output_type": "execute_result"
    }
   ],
   "source": [
    "df2=frame[[\"myDate\",\"myDecimal\"]]\n",
    "\n",
    "# requires matplotlib \n",
    "#df2.plot(x='myDate', y='myDecimal')\n",
    "df2.dtypes"
   ]
  },
  {
   "cell_type": "code",
   "execution_count": 5,
   "metadata": {},
   "outputs": [
    {
     "data": {
      "text/plain": [
       "myDecimal    object\n",
       "dtype: object"
      ]
     },
     "execution_count": 5,
     "metadata": {},
     "output_type": "execute_result"
    }
   ],
   "source": [
    "df2[['myDecimal']].dtypes"
   ]
  },
  {
   "cell_type": "code",
   "execution_count": 6,
   "metadata": {},
   "outputs": [
    {
     "data": {
      "text/plain": [
       "0         -99.999901\n",
       "1         -99.999802\n",
       "2         -99.999702\n",
       "3         -99.999603\n",
       "4         -99.999496\n",
       "5         -99.999397\n",
       "6         -99.999298\n",
       "7         -99.999199\n",
       "8         -99.999100\n",
       "9         -99.999001\n",
       "10        -99.998901\n",
       "11        -99.998802\n",
       "12        -99.998703\n",
       "13        -99.998596\n",
       "14        -99.998497\n",
       "15        -99.998398\n",
       "16        -99.998299\n",
       "17        -99.998199\n",
       "18        -99.998100\n",
       "19        -99.998001\n",
       "20        -99.997902\n",
       "21        -99.997803\n",
       "22        -99.997704\n",
       "23        -99.997597\n",
       "24        -99.997498\n",
       "25        -99.997398\n",
       "26        -99.997299\n",
       "27        -99.997200\n",
       "28        -99.997101\n",
       "29        -99.997002\n",
       "             ...    \n",
       "1999968    99.996902\n",
       "1999969    99.997002\n",
       "1999970    99.997101\n",
       "1999971    99.997200\n",
       "1999972    99.997299\n",
       "1999973    99.997398\n",
       "1999974    99.997498\n",
       "1999975    99.997597\n",
       "1999976    99.997704\n",
       "1999977    99.997803\n",
       "1999978    99.997902\n",
       "1999979    99.998001\n",
       "1999980    99.998100\n",
       "1999981    99.998199\n",
       "1999982    99.998299\n",
       "1999983    99.998398\n",
       "1999984    99.998497\n",
       "1999985    99.998596\n",
       "1999986    99.998703\n",
       "1999987    99.998802\n",
       "1999988    99.998901\n",
       "1999989    99.999001\n",
       "1999990    99.999100\n",
       "1999991    99.999199\n",
       "1999992    99.999298\n",
       "1999993    99.999397\n",
       "1999994    99.999496\n",
       "1999995    99.999603\n",
       "1999996    99.999702\n",
       "1999997    99.999802\n",
       "Name: myDecimal, Length: 1999998, dtype: float32"
      ]
     },
     "execution_count": 6,
     "metadata": {},
     "output_type": "execute_result"
    }
   ],
   "source": [
    "import pandas as pd\n",
    "pd.to_numeric(df2['myDecimal'], downcast='float', errors='coerce')"
   ]
  },
  {
   "cell_type": "code",
   "execution_count": 11,
   "metadata": {},
   "outputs": [
    {
     "data": {
      "text/plain": [
       "0         2014-05-14 00:00:00.000000000\n",
       "1         2014-05-15 00:00:00.000000000\n",
       "2         2014-05-16 00:00:00.000000000\n",
       "3         2014-05-17 00:00:00.000000000\n",
       "4         2014-05-18 00:00:00.000000000\n",
       "5         2014-05-19 00:00:00.000000000\n",
       "6         2014-05-20 00:00:00.000000000\n",
       "7         2014-05-21 00:00:00.000000000\n",
       "8         2014-05-22 00:00:00.000000000\n",
       "9         2014-05-23 00:00:00.000000000\n",
       "10        2014-05-24 00:00:00.000000000\n",
       "11        2014-05-25 00:00:00.000000000\n",
       "12        2014-05-26 00:00:00.000000000\n",
       "13        2014-05-27 00:00:00.000000000\n",
       "14        2014-05-28 00:00:00.000000000\n",
       "15        2014-05-29 00:00:00.000000000\n",
       "16        2014-05-30 00:00:00.000000000\n",
       "17        2014-05-31 00:00:00.000000000\n",
       "18        2014-06-01 00:00:00.000000000\n",
       "19        2014-06-02 00:00:00.000000000\n",
       "20        2014-06-03 00:00:00.000000000\n",
       "21        2014-06-04 00:00:00.000000000\n",
       "22        2014-06-05 00:00:00.000000000\n",
       "23        2014-06-06 00:00:00.000000000\n",
       "24        2014-06-07 00:00:00.000000000\n",
       "25        2014-06-08 00:00:00.000000000\n",
       "26        2014-06-09 00:00:00.000000000\n",
       "27        2014-06-10 00:00:00.000000000\n",
       "28        2014-06-11 00:00:00.000000000\n",
       "29        2014-06-12 00:00:00.000000000\n",
       "                       ...             \n",
       "1999968   2229-02-08 03:48:56.614035456\n",
       "1999969   2229-02-09 03:48:56.614035456\n",
       "1999970   2229-02-10 03:48:56.614035456\n",
       "1999971   2229-02-11 03:48:56.614035456\n",
       "1999972   2229-02-12 03:48:56.614035456\n",
       "1999973   2229-02-13 03:48:56.614035456\n",
       "1999974   2229-02-14 03:48:56.614035456\n",
       "1999975   2229-02-15 03:48:56.614035456\n",
       "1999976   2229-02-16 03:48:56.614035456\n",
       "1999977   2229-02-17 03:48:56.614035456\n",
       "1999978   2229-02-18 03:48:56.614035456\n",
       "1999979   2229-02-19 03:48:56.614035456\n",
       "1999980   2229-02-20 03:48:56.614035456\n",
       "1999981   2229-02-21 03:48:56.614035456\n",
       "1999982   2229-02-22 03:48:56.614035456\n",
       "1999983   2229-02-23 03:48:56.614035456\n",
       "1999984   2229-02-24 03:48:56.614035456\n",
       "1999985   2229-02-25 03:48:56.614035456\n",
       "1999986   2229-02-26 03:48:56.614035456\n",
       "1999987   2229-02-27 03:48:56.614035456\n",
       "1999988   2229-02-28 03:48:56.614035456\n",
       "1999989   2229-03-01 03:48:56.614035456\n",
       "1999990   2229-03-02 03:48:56.614035456\n",
       "1999991   2229-03-03 03:48:56.614035456\n",
       "1999992   2229-03-04 03:48:56.614035456\n",
       "1999993   2229-03-05 03:48:56.614035456\n",
       "1999994   2229-03-06 03:48:56.614035456\n",
       "1999995   2229-03-07 03:48:56.614035456\n",
       "1999996   2229-03-08 03:48:56.614035456\n",
       "1999997   2229-03-09 03:48:56.614035456\n",
       "Name: myDate, Length: 1999998, dtype: datetime64[ns]"
      ]
     },
     "execution_count": 11,
     "metadata": {},
     "output_type": "execute_result"
    }
   ],
   "source": [
    "df2['myDate']"
   ]
  },
  {
   "cell_type": "code",
   "execution_count": 12,
   "metadata": {},
   "outputs": [
    {
     "data": {
      "text/plain": [
       "0         -99.9999\n",
       "1         -99.9998\n",
       "2         -99.9997\n",
       "3         -99.9996\n",
       "4         -99.9995\n",
       "5         -99.9994\n",
       "6         -99.9993\n",
       "7         -99.9992\n",
       "8         -99.9991\n",
       "9         -99.9990\n",
       "10        -99.9989\n",
       "11        -99.9988\n",
       "12        -99.9987\n",
       "13        -99.9986\n",
       "14        -99.9985\n",
       "15        -99.9984\n",
       "16        -99.9983\n",
       "17        -99.9982\n",
       "18        -99.9981\n",
       "19        -99.9980\n",
       "20        -99.9979\n",
       "21        -99.9978\n",
       "22        -99.9977\n",
       "23        -99.9976\n",
       "24        -99.9975\n",
       "25        -99.9974\n",
       "26        -99.9973\n",
       "27        -99.9972\n",
       "28        -99.9971\n",
       "29        -99.9970\n",
       "            ...   \n",
       "1999968    99.9969\n",
       "1999969    99.9970\n",
       "1999970    99.9971\n",
       "1999971    99.9972\n",
       "1999972    99.9973\n",
       "1999973    99.9974\n",
       "1999974    99.9975\n",
       "1999975    99.9976\n",
       "1999976    99.9977\n",
       "1999977    99.9978\n",
       "1999978    99.9979\n",
       "1999979    99.9980\n",
       "1999980    99.9981\n",
       "1999981    99.9982\n",
       "1999982    99.9983\n",
       "1999983    99.9984\n",
       "1999984    99.9985\n",
       "1999985    99.9986\n",
       "1999986    99.9987\n",
       "1999987    99.9988\n",
       "1999988    99.9989\n",
       "1999989    99.9990\n",
       "1999990    99.9991\n",
       "1999991    99.9992\n",
       "1999992    99.9993\n",
       "1999993    99.9994\n",
       "1999994    99.9995\n",
       "1999995    99.9996\n",
       "1999996    99.9997\n",
       "1999997    99.9998\n",
       "Name: myDecimal, Length: 1999998, dtype: float64"
      ]
     },
     "execution_count": 12,
     "metadata": {},
     "output_type": "execute_result"
    }
   ],
   "source": [
    "df2['myDecimal'].astype(float)"
   ]
  },
  {
   "cell_type": "code",
   "execution_count": 14,
   "metadata": {},
   "outputs": [
    {
     "ename": "TypeError",
     "evalue": "invalid type promotion",
     "output_type": "error",
     "traceback": [
      "\u001b[0;31m---------------------------------------------------------------------------\u001b[0m",
      "\u001b[0;31mTypeError\u001b[0m                                 Traceback (most recent call last)",
      "\u001b[0;32m<ipython-input-14-2f742c2bdec1>\u001b[0m in \u001b[0;36m<module>\u001b[0;34m\u001b[0m\n\u001b[1;32m      1\u001b[0m \u001b[0mx\u001b[0m\u001b[0;34m=\u001b[0m\u001b[0mdf2\u001b[0m\u001b[0;34m[\u001b[0m\u001b[0;34m'myDate'\u001b[0m\u001b[0;34m]\u001b[0m\u001b[0;34m\u001b[0m\u001b[0;34m\u001b[0m\u001b[0m\n\u001b[1;32m      2\u001b[0m \u001b[0my\u001b[0m\u001b[0;34m=\u001b[0m\u001b[0mdf2\u001b[0m\u001b[0;34m[\u001b[0m\u001b[0;34m'myDecimal'\u001b[0m\u001b[0;34m]\u001b[0m\u001b[0;34m.\u001b[0m\u001b[0mastype\u001b[0m\u001b[0;34m(\u001b[0m\u001b[0mfloat\u001b[0m\u001b[0;34m)\u001b[0m\u001b[0;34m\u001b[0m\u001b[0;34m\u001b[0m\u001b[0m\n\u001b[0;32m----> 3\u001b[0;31m \u001b[0mpd\u001b[0m\u001b[0;34m.\u001b[0m\u001b[0mDataFrame\u001b[0m\u001b[0;34m(\u001b[0m\u001b[0;34m[\u001b[0m\u001b[0mx\u001b[0m\u001b[0;34m,\u001b[0m\u001b[0my\u001b[0m\u001b[0;34m]\u001b[0m\u001b[0;34m)\u001b[0m\u001b[0;34m\u001b[0m\u001b[0;34m\u001b[0m\u001b[0m\n\u001b[0m\u001b[1;32m      4\u001b[0m \u001b[0;31m#df2.update(x)\u001b[0m\u001b[0;34m\u001b[0m\u001b[0;34m\u001b[0m\u001b[0;34m\u001b[0m\u001b[0m\n",
      "\u001b[0;32m~/miniconda3/envs/nb36/lib/python3.6/site-packages/pandas/core/frame.py\u001b[0m in \u001b[0;36m__init__\u001b[0;34m(self, data, index, columns, dtype, copy)\u001b[0m\n\u001b[1;32m    433\u001b[0m                     \u001b[0;32mif\u001b[0m \u001b[0mis_named_tuple\u001b[0m\u001b[0;34m(\u001b[0m\u001b[0mdata\u001b[0m\u001b[0;34m[\u001b[0m\u001b[0;36m0\u001b[0m\u001b[0;34m]\u001b[0m\u001b[0;34m)\u001b[0m \u001b[0;32mand\u001b[0m \u001b[0mcolumns\u001b[0m \u001b[0;32mis\u001b[0m \u001b[0;32mNone\u001b[0m\u001b[0;34m:\u001b[0m\u001b[0;34m\u001b[0m\u001b[0;34m\u001b[0m\u001b[0m\n\u001b[1;32m    434\u001b[0m                         \u001b[0mcolumns\u001b[0m \u001b[0;34m=\u001b[0m \u001b[0mdata\u001b[0m\u001b[0;34m[\u001b[0m\u001b[0;36m0\u001b[0m\u001b[0;34m]\u001b[0m\u001b[0;34m.\u001b[0m\u001b[0m_fields\u001b[0m\u001b[0;34m\u001b[0m\u001b[0;34m\u001b[0m\u001b[0m\n\u001b[0;32m--> 435\u001b[0;31m                     \u001b[0marrays\u001b[0m\u001b[0;34m,\u001b[0m \u001b[0mcolumns\u001b[0m \u001b[0;34m=\u001b[0m \u001b[0mto_arrays\u001b[0m\u001b[0;34m(\u001b[0m\u001b[0mdata\u001b[0m\u001b[0;34m,\u001b[0m \u001b[0mcolumns\u001b[0m\u001b[0;34m,\u001b[0m \u001b[0mdtype\u001b[0m\u001b[0;34m=\u001b[0m\u001b[0mdtype\u001b[0m\u001b[0;34m)\u001b[0m\u001b[0;34m\u001b[0m\u001b[0;34m\u001b[0m\u001b[0m\n\u001b[0m\u001b[1;32m    436\u001b[0m                     \u001b[0mcolumns\u001b[0m \u001b[0;34m=\u001b[0m \u001b[0mensure_index\u001b[0m\u001b[0;34m(\u001b[0m\u001b[0mcolumns\u001b[0m\u001b[0;34m)\u001b[0m\u001b[0;34m\u001b[0m\u001b[0;34m\u001b[0m\u001b[0m\n\u001b[1;32m    437\u001b[0m \u001b[0;34m\u001b[0m\u001b[0m\n",
      "\u001b[0;32m~/miniconda3/envs/nb36/lib/python3.6/site-packages/pandas/core/internals/construction.py\u001b[0m in \u001b[0;36mto_arrays\u001b[0;34m(data, columns, coerce_float, dtype)\u001b[0m\n\u001b[1;32m    409\u001b[0m         return _list_of_series_to_arrays(data, columns,\n\u001b[1;32m    410\u001b[0m                                          \u001b[0mcoerce_float\u001b[0m\u001b[0;34m=\u001b[0m\u001b[0mcoerce_float\u001b[0m\u001b[0;34m,\u001b[0m\u001b[0;34m\u001b[0m\u001b[0;34m\u001b[0m\u001b[0m\n\u001b[0;32m--> 411\u001b[0;31m                                          dtype=dtype)\n\u001b[0m\u001b[1;32m    412\u001b[0m     \u001b[0;32melif\u001b[0m \u001b[0misinstance\u001b[0m\u001b[0;34m(\u001b[0m\u001b[0mdata\u001b[0m\u001b[0;34m[\u001b[0m\u001b[0;36m0\u001b[0m\u001b[0;34m]\u001b[0m\u001b[0;34m,\u001b[0m \u001b[0mCategorical\u001b[0m\u001b[0;34m)\u001b[0m\u001b[0;34m:\u001b[0m\u001b[0;34m\u001b[0m\u001b[0;34m\u001b[0m\u001b[0m\n\u001b[1;32m    413\u001b[0m         \u001b[0;32mif\u001b[0m \u001b[0mcolumns\u001b[0m \u001b[0;32mis\u001b[0m \u001b[0;32mNone\u001b[0m\u001b[0;34m:\u001b[0m\u001b[0;34m\u001b[0m\u001b[0;34m\u001b[0m\u001b[0m\n",
      "\u001b[0;32m~/miniconda3/envs/nb36/lib/python3.6/site-packages/pandas/core/internals/construction.py\u001b[0m in \u001b[0;36m_list_of_series_to_arrays\u001b[0;34m(data, columns, coerce_float, dtype)\u001b[0m\n\u001b[1;32m    457\u001b[0m         \u001b[0maligned_values\u001b[0m\u001b[0;34m.\u001b[0m\u001b[0mappend\u001b[0m\u001b[0;34m(\u001b[0m\u001b[0malgorithms\u001b[0m\u001b[0;34m.\u001b[0m\u001b[0mtake_1d\u001b[0m\u001b[0;34m(\u001b[0m\u001b[0mvalues\u001b[0m\u001b[0;34m,\u001b[0m \u001b[0mindexer\u001b[0m\u001b[0;34m)\u001b[0m\u001b[0;34m)\u001b[0m\u001b[0;34m\u001b[0m\u001b[0;34m\u001b[0m\u001b[0m\n\u001b[1;32m    458\u001b[0m \u001b[0;34m\u001b[0m\u001b[0m\n\u001b[0;32m--> 459\u001b[0;31m     \u001b[0mvalues\u001b[0m \u001b[0;34m=\u001b[0m \u001b[0mnp\u001b[0m\u001b[0;34m.\u001b[0m\u001b[0mvstack\u001b[0m\u001b[0;34m(\u001b[0m\u001b[0maligned_values\u001b[0m\u001b[0;34m)\u001b[0m\u001b[0;34m\u001b[0m\u001b[0;34m\u001b[0m\u001b[0m\n\u001b[0m\u001b[1;32m    460\u001b[0m \u001b[0;34m\u001b[0m\u001b[0m\n\u001b[1;32m    461\u001b[0m     \u001b[0;32mif\u001b[0m \u001b[0mvalues\u001b[0m\u001b[0;34m.\u001b[0m\u001b[0mdtype\u001b[0m \u001b[0;34m==\u001b[0m \u001b[0mnp\u001b[0m\u001b[0;34m.\u001b[0m\u001b[0mobject_\u001b[0m\u001b[0;34m:\u001b[0m\u001b[0;34m\u001b[0m\u001b[0;34m\u001b[0m\u001b[0m\n",
      "\u001b[0;32m~/miniconda3/envs/nb36/lib/python3.6/site-packages/numpy/core/shape_base.py\u001b[0m in \u001b[0;36mvstack\u001b[0;34m(tup)\u001b[0m\n\u001b[1;32m    281\u001b[0m     \"\"\"\n\u001b[1;32m    282\u001b[0m     \u001b[0m_warn_for_nonsequence\u001b[0m\u001b[0;34m(\u001b[0m\u001b[0mtup\u001b[0m\u001b[0;34m)\u001b[0m\u001b[0;34m\u001b[0m\u001b[0;34m\u001b[0m\u001b[0m\n\u001b[0;32m--> 283\u001b[0;31m     \u001b[0;32mreturn\u001b[0m \u001b[0m_nx\u001b[0m\u001b[0;34m.\u001b[0m\u001b[0mconcatenate\u001b[0m\u001b[0;34m(\u001b[0m\u001b[0;34m[\u001b[0m\u001b[0matleast_2d\u001b[0m\u001b[0;34m(\u001b[0m\u001b[0m_m\u001b[0m\u001b[0;34m)\u001b[0m \u001b[0;32mfor\u001b[0m \u001b[0m_m\u001b[0m \u001b[0;32min\u001b[0m \u001b[0mtup\u001b[0m\u001b[0;34m]\u001b[0m\u001b[0;34m,\u001b[0m \u001b[0;36m0\u001b[0m\u001b[0;34m)\u001b[0m\u001b[0;34m\u001b[0m\u001b[0;34m\u001b[0m\u001b[0m\n\u001b[0m\u001b[1;32m    284\u001b[0m \u001b[0;34m\u001b[0m\u001b[0m\n\u001b[1;32m    285\u001b[0m \u001b[0;34m\u001b[0m\u001b[0m\n",
      "\u001b[0;31mTypeError\u001b[0m: invalid type promotion"
     ]
    }
   ],
   "source": [
    "x=df2['myDate']\n",
    "y=df2['myDecimal'].astype(float)\n",
    "pd.DataFrame([x,y])\n",
    "#df2.update(x)"
   ]
  },
  {
   "cell_type": "code",
   "execution_count": null,
   "metadata": {},
   "outputs": [],
   "source": []
  }
 ],
 "metadata": {
  "kernelspec": {
   "display_name": "Python 3",
   "language": "python",
   "name": "python3"
  },
  "language_info": {
   "codemirror_mode": {
    "name": "ipython",
    "version": 3
   },
   "file_extension": ".py",
   "mimetype": "text/x-python",
   "name": "python",
   "nbconvert_exporter": "python",
   "pygments_lexer": "ipython3",
   "version": "3.6.8"
  },
  "toc": {
   "base_numbering": 1,
   "nav_menu": {},
   "number_sections": false,
   "sideBar": false,
   "skip_h1_title": false,
   "title_cell": "Table of Contents",
   "title_sidebar": "Contents",
   "toc_cell": false,
   "toc_position": {},
   "toc_section_display": false,
   "toc_window_display": false
  }
 },
 "nbformat": 4,
 "nbformat_minor": 2
}
